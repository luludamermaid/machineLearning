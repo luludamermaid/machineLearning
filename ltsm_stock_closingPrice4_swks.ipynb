{
  "nbformat": 4,
  "nbformat_minor": 0,
  "metadata": {
    "colab": {
      "name": "ltsm_stock_closingPrice4_swks.ipynb",
      "provenance": [],
      "collapsed_sections": [],
      "authorship_tag": "ABX9TyPv9p/x5r68vOK6eH11WRCU",
      "include_colab_link": true
    },
    "kernelspec": {
      "display_name": "Python 3",
      "name": "python3"
    }
  },
  "cells": [
    {
      "cell_type": "markdown",
      "metadata": {
        "id": "view-in-github",
        "colab_type": "text"
      },
      "source": [
        "<a href=\"https://colab.research.google.com/github/luludamermaid/machineLearning/blob/main/ltsm_stock_closingPrice4_swks.ipynb\" target=\"_parent\"><img src=\"https://colab.research.google.com/assets/colab-badge.svg\" alt=\"Open In Colab\"/></a>"
      ]
    },
    {
      "cell_type": "markdown",
      "metadata": {
        "id": "md5eg_fmJZab"
      },
      "source": [
        "upload stock price file from hard drive"
      ]
    },
    {
      "cell_type": "markdown",
      "metadata": {
        "id": "lE42Naf5LJhH"
      },
      "source": [
        "This code is tested with SWKS stock price"
      ]
    },
    {
      "cell_type": "code",
      "metadata": {
        "id": "FVayPGqfOCZ8"
      },
      "source": [
        "#importing required libraries\n",
        "from sklearn.preprocessing import MinMaxScaler\n",
        "from keras.models import Sequential\n",
        "from keras.layers import Dense, Dropout, LSTM\n",
        "from google.colab import files\n",
        "import io\n",
        "import numpy as np\n",
        "import pandas as pd\n",
        "\n",
        "\n",
        "\n",
        "from pandas.plotting import register_matplotlib_converters\n",
        "register_matplotlib_converters()"
      ],
      "execution_count": 2,
      "outputs": []
    },
    {
      "cell_type": "code",
      "metadata": {
        "id": "anib_TwOOE_x"
      },
      "source": [
        "#constants\n",
        "#prior days data to predict stock price\n",
        "PRIOR_DAYS = 70\n",
        "#set to True if splitting train/test data by percentage. set to False if splitting train/test data by number of data. if set to false, set TEST_DATA_COUNT to how many item from the last to be in test data\n",
        "TRAIN_DATA_SPLIT_BY_PERCENT = True \n",
        "# % training data, out of all data. The rest will be test data\n",
        "TRAIN_DATA_SPLIT_PERCENT = 85 #was 79%\n",
        "#how many data item from the last (latest date) to use as test (to predict)\n",
        "TEST_DATA_COUNT =  1 \n",
        "#LSTM layers\n",
        "LSTM_LAYERS_UNITS=[60,60,60]\n",
        "EPOCHS=5\n",
        "BATCH_SIZE=1\n",
        "LOSS='mean_squared_error'\n",
        "OPTIMIZER='adam'\n",
        "ADD_DROPOUT_LAYER=True\n",
        "DROPOUT = 0.2 \n"
      ],
      "execution_count": 3,
      "outputs": []
    },
    {
      "cell_type": "code",
      "metadata": {
        "colab": {
          "resources": {
            "http://localhost:8080/nbextensions/google.colab/files.js": {
              "data": "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",
              "ok": true,
              "headers": [
                [
                  "content-type",
                  "application/javascript"
                ]
              ],
              "status": 200,
              "status_text": ""
            }
          },
          "base_uri": "https://localhost:8080/",
          "height": 72
        },
        "id": "_Ul5ODeQ0pRg",
        "outputId": "7bdf75ff-9c5e-422c-a9f3-911ee378f511"
      },
      "source": [
        "uploaded = files.upload()\n",
        "df = pd.read_csv(io.BytesIO(uploaded['SWKS.csv']))\n",
        "#df = pd.read_csv(\"C:\\\\Lu\\\\AI\\\\experiments\\\\KNN\\\\data\\\\SWKS.csv\")"
      ],
      "execution_count": 4,
      "outputs": [
        {
          "output_type": "display_data",
          "data": {
            "text/html": [
              "\n",
              "     <input type=\"file\" id=\"files-83c6c035-164d-474b-bf87-90a3280624db\" name=\"files[]\" multiple disabled\n",
              "        style=\"border:none\" />\n",
              "     <output id=\"result-83c6c035-164d-474b-bf87-90a3280624db\">\n",
              "      Upload widget is only available when the cell has been executed in the\n",
              "      current browser session. Please rerun this cell to enable.\n",
              "      </output>\n",
              "      <script src=\"/nbextensions/google.colab/files.js\"></script> "
            ],
            "text/plain": [
              "<IPython.core.display.HTML object>"
            ]
          },
          "metadata": {
            "tags": []
          }
        },
        {
          "output_type": "stream",
          "text": [
            "Saving SWKS.csv to SWKS.csv\n"
          ],
          "name": "stdout"
        }
      ]
    },
    {
      "cell_type": "markdown",
      "metadata": {
        "id": "C3_h1vEwP3FV"
      },
      "source": [
        "pre-process input data - reformat data into stock trading dates, and closing price \n"
      ]
    },
    {
      "cell_type": "code",
      "metadata": {
        "id": "Q0zY5niFuu8H"
      },
      "source": [
        "df = df.dropna() #drop N/A data\n",
        "#creating dataframe\n",
        "data = df.sort_index(ascending=True, axis=0)\n",
        "\n",
        "#make a dataframe with index of dates instead of 0,1,2,3 that we read from the file\n",
        "new_data = pd.DataFrame(index=range(0,len(df)),columns=['Date', 'Open', 'Close'])\n",
        "\n",
        "for i in range(0,len(data)):\n",
        "    new_data['Date'][i] = data['Date'][i]\n",
        "    new_data['Open'][i] = data['Open'][i]\n",
        "    new_data['Close'][i] = data['Close'][i]\n",
        "#setting dates as index\n",
        "new_data.index = new_data.Date\n",
        "new_data.drop('Date', axis=1, inplace=True)"
      ],
      "execution_count": 5,
      "outputs": []
    },
    {
      "cell_type": "code",
      "metadata": {
        "colab": {
          "base_uri": "https://localhost:8080/",
          "height": 235
        },
        "id": "fnZE05--J5qU",
        "outputId": "2dd7bee3-4fd7-4ab7-d92e-62678e574352"
      },
      "source": [
        "new_data.head()"
      ],
      "execution_count": 6,
      "outputs": [
        {
          "output_type": "execute_result",
          "data": {
            "text/html": [
              "<div>\n",
              "<style scoped>\n",
              "    .dataframe tbody tr th:only-of-type {\n",
              "        vertical-align: middle;\n",
              "    }\n",
              "\n",
              "    .dataframe tbody tr th {\n",
              "        vertical-align: top;\n",
              "    }\n",
              "\n",
              "    .dataframe thead th {\n",
              "        text-align: right;\n",
              "    }\n",
              "</style>\n",
              "<table border=\"1\" class=\"dataframe\">\n",
              "  <thead>\n",
              "    <tr style=\"text-align: right;\">\n",
              "      <th></th>\n",
              "      <th>Open</th>\n",
              "      <th>Close</th>\n",
              "    </tr>\n",
              "    <tr>\n",
              "      <th>Date</th>\n",
              "      <th></th>\n",
              "      <th></th>\n",
              "    </tr>\n",
              "  </thead>\n",
              "  <tbody>\n",
              "    <tr>\n",
              "      <th>2016-01-06</th>\n",
              "      <td>71.55</td>\n",
              "      <td>69.15</td>\n",
              "    </tr>\n",
              "    <tr>\n",
              "      <th>2016-01-07</th>\n",
              "      <td>66.6</td>\n",
              "      <td>67.16</td>\n",
              "    </tr>\n",
              "    <tr>\n",
              "      <th>2016-01-08</th>\n",
              "      <td>68.56</td>\n",
              "      <td>66.89</td>\n",
              "    </tr>\n",
              "    <tr>\n",
              "      <th>2016-01-11</th>\n",
              "      <td>67.18</td>\n",
              "      <td>66.05</td>\n",
              "    </tr>\n",
              "    <tr>\n",
              "      <th>2016-01-12</th>\n",
              "      <td>66.72</td>\n",
              "      <td>66.63</td>\n",
              "    </tr>\n",
              "  </tbody>\n",
              "</table>\n",
              "</div>"
            ],
            "text/plain": [
              "             Open  Close\n",
              "Date                    \n",
              "2016-01-06  71.55  69.15\n",
              "2016-01-07   66.6  67.16\n",
              "2016-01-08  68.56  66.89\n",
              "2016-01-11  67.18  66.05\n",
              "2016-01-12  66.72  66.63"
            ]
          },
          "metadata": {
            "tags": []
          },
          "execution_count": 6
        }
      ]
    },
    {
      "cell_type": "markdown",
      "metadata": {
        "id": "KY0lEDSyQXfA"
      },
      "source": [
        "Create train and test datasets"
      ]
    },
    {
      "cell_type": "code",
      "metadata": {
        "id": "boQL6EdyvHKD"
      },
      "source": [
        "#data is numpy array\n",
        "#return value: x is time_steps days prior day closing price, and y is today closing price \n",
        "def create_model_data(data, data_start_index, data_length, time_steps):\n",
        "  \n",
        "  #arrange prior_days_close and y data. prior_days_close is time_step prior days closing price. y is today closing price.\n",
        "  prior_days_close, today_close, today_open = [],[],[]\n",
        "  \n",
        "  start = data_start_index + time_steps\n",
        "  end = data_start_index+data_length\n",
        " \n",
        "  open_lookback=np.zeros(time_steps)\n",
        "  \n",
        "\n",
        "  for i in range(start,end):\n",
        "  \n",
        "    prior_days_close.append(data[i-time_steps:i,1]) #prior days close\n",
        "   \n",
        "    open_lookback[time_steps-1] = data[i,0] #today open\n",
        "  \n",
        "    today_open.append(np.array(open_lookback)) #use np.array(open_lookback) so append function argument is passed by value   \n",
        "    today_close.append(data[i,1]) #today close\n",
        "\n",
        "  prior_days_close = np.array(prior_days_close)\n",
        "  today_open= np.array(today_open)\n",
        " \n",
        "\n",
        "  prior_days_close=np.expand_dims(prior_days_close, axis = 2)\n",
        "  today_open=np.expand_dims(today_open, axis = 2)\n",
        "  x = np.concatenate((prior_days_close,today_open), axis=2)\n",
        "  return (x,np.array(today_close))\n"
      ],
      "execution_count": 7,
      "outputs": []
    },
    {
      "cell_type": "code",
      "metadata": {
        "id": "EZ5t_E00vC5T"
      },
      "source": [
        "\n",
        "dataset = new_data.values #numpy values of the dataframe. In this case we get numpy array of n rows (n=entries in stock data) and 1 column. \n",
        "\n",
        "#scale data\n",
        "scaler=MinMaxScaler(feature_range=(0,1)) #scale data to 0-1 range\n",
        "scaled_data=scaler.fit_transform(dataset) #scaled_data is numpy array"
      ],
      "execution_count": 8,
      "outputs": []
    },
    {
      "cell_type": "code",
      "metadata": {
        "colab": {
          "base_uri": "https://localhost:8080/"
        },
        "id": "__-x0pKU8gCn",
        "outputId": "98ede964-882e-4082-b082-aaadfafab048"
      },
      "source": [
        "print(type(dataset))\n",
        "print(dataset.shape)\n"
      ],
      "execution_count": 9,
      "outputs": [
        {
          "output_type": "stream",
          "text": [
            "<class 'numpy.ndarray'>\n",
            "(1252, 2)\n"
          ],
          "name": "stdout"
        }
      ]
    },
    {
      "cell_type": "code",
      "metadata": {
        "id": "fZTLyyEbQ7xp"
      },
      "source": [
        "#get x and y training data\n",
        "(x,y) = create_model_data(scaled_data, 0, len(scaled_data), PRIOR_DAYS)\n",
        "\n",
        "#split data into training and testing.\n",
        "if TRAIN_DATA_SPLIT_BY_PERCENT : \n",
        "  split = round((len(scaled_data) - PRIOR_DAYS)*TRAIN_DATA_SPLIT_PERCENT/100)\n",
        "else:\n",
        "  split = len(scaled_data) - PRIOR_DAYS - TEST_DATA_COUNT  "
      ],
      "execution_count": 10,
      "outputs": []
    },
    {
      "cell_type": "code",
      "metadata": {
        "id": "iw0QyjMvPzeD"
      },
      "source": [
        "x_train = x[0:split,:,:]\n",
        "y_train = y[0:split]\n",
        "x_test = x[split:,:,:]\n",
        "y_test= y[split:]\n"
      ],
      "execution_count": 11,
      "outputs": []
    },
    {
      "cell_type": "markdown",
      "metadata": {
        "id": "Sw35q-78vQ3U"
      },
      "source": [
        "LSTM network expects the input to be in the form [samples, time steps, features] where samples is the number of data points we have, time steps is the number of time-dependent steps that are there in a single data point, number of input features. (From this site https://www.analyticsvidhya.com/blog/2017/12/fundamentals-of-deep-learning-introduction-to-lstm/)"
      ]
    },
    {
      "cell_type": "markdown",
      "metadata": {
        "id": "iR4XjwzQ8D02"
      },
      "source": [
        "Note that LSTM model takes 3D array as input. set return_sequences to true if you want to stack up LSTM layers. With return_sequence=true, the lstm will output 3D array (versus 1D) for the next LSTM layer. So if you plan on stacking the LSTM layers, make sure the prior LSTM layer has return_sequence = True"
      ]
    },
    {
      "cell_type": "code",
      "metadata": {
        "colab": {
          "base_uri": "https://localhost:8080/"
        },
        "id": "lPruLcG3vKYv",
        "outputId": "eecf9783-0ec2-44a8-9194-a877deb157e3"
      },
      "source": [
        "# create and fit the LSTM network\n",
        "def create_lstm_model(x, units_list_by_layers,  return_seq=True ):\n",
        "  model = Sequential()\n",
        "  #there's no rule in selecting units. Some people would have it less than the time series count. Other than that, Good luck!!\n",
        "  model.add(LSTM(units=units_list_by_layers[0], return_sequences=return_seq, input_shape=(x.shape[1],x.shape[2]))) \n",
        "  ltsm_layers = len(units_list_by_layers)\n",
        "  for i in range (1, ltsm_layers):\n",
        "    if ADD_DROPOUT_LAYER:\n",
        "      model.add(Dropout(DROPOUT))\n",
        "    model.add(LSTM(units=units_list_by_layers[i], return_sequences= (i< ltsm_layers-1)))\n",
        "\n",
        "  model.add(Dense(1)) #I think dense layer here is for changing dimension of the vector to 1 dimension in this case. All the predicted closing price is just a list of prices thus 1 dimension\n",
        "  \n",
        "  return model\n",
        "\n",
        "model = create_lstm_model(x_train, LSTM_LAYERS_UNITS)\n",
        "\n",
        "model.compile(loss=LOSS, optimizer=OPTIMIZER)\n",
        "model.fit(x_train, y_train, epochs=EPOCHS, batch_size=BATCH_SIZE, verbose=2)\n",
        "  \n"
      ],
      "execution_count": 12,
      "outputs": [
        {
          "output_type": "stream",
          "text": [
            "Epoch 1/5\n",
            "1005/1005 - 57s - loss: 0.0037\n",
            "Epoch 2/5\n",
            "1005/1005 - 37s - loss: 0.0016\n",
            "Epoch 3/5\n",
            "1005/1005 - 37s - loss: 0.0011\n",
            "Epoch 4/5\n",
            "1005/1005 - 36s - loss: 9.8643e-04\n",
            "Epoch 5/5\n",
            "1005/1005 - 36s - loss: 9.2578e-04\n"
          ],
          "name": "stdout"
        },
        {
          "output_type": "execute_result",
          "data": {
            "text/plain": [
              "<keras.callbacks.History at 0x7efc9e1d3710>"
            ]
          },
          "metadata": {
            "tags": []
          },
          "execution_count": 12
        }
      ]
    },
    {
      "cell_type": "code",
      "metadata": {
        "id": "ky-ozIOJEpqR",
        "colab": {
          "base_uri": "https://localhost:8080/"
        },
        "outputId": "3e780801-877c-4efa-8a91-626b62a9dafe"
      },
      "source": [
        "print(model.summary())"
      ],
      "execution_count": 13,
      "outputs": [
        {
          "output_type": "stream",
          "text": [
            "Model: \"sequential\"\n",
            "_________________________________________________________________\n",
            "Layer (type)                 Output Shape              Param #   \n",
            "=================================================================\n",
            "lstm (LSTM)                  (None, 70, 60)            15120     \n",
            "_________________________________________________________________\n",
            "dropout (Dropout)            (None, 70, 60)            0         \n",
            "_________________________________________________________________\n",
            "lstm_1 (LSTM)                (None, 70, 60)            29040     \n",
            "_________________________________________________________________\n",
            "dropout_1 (Dropout)          (None, 70, 60)            0         \n",
            "_________________________________________________________________\n",
            "lstm_2 (LSTM)                (None, 60)                29040     \n",
            "_________________________________________________________________\n",
            "dense (Dense)                (None, 1)                 61        \n",
            "=================================================================\n",
            "Total params: 73,261\n",
            "Trainable params: 73,261\n",
            "Non-trainable params: 0\n",
            "_________________________________________________________________\n",
            "None\n"
          ],
          "name": "stdout"
        }
      ]
    },
    {
      "cell_type": "code",
      "metadata": {
        "id": "zYGM9BWkyAVw",
        "colab": {
          "base_uri": "https://localhost:8080/"
        },
        "outputId": "2636fc65-2b95-45a3-e770-ecd17fdc7367"
      },
      "source": [
        "print(x_test.shape)\n",
        "x_train.shape\n",
        "print(y_train.shape)\n",
        "y_train[0:3]"
      ],
      "execution_count": 14,
      "outputs": [
        {
          "output_type": "stream",
          "text": [
            "(177, 70, 2)\n",
            "(1005,)\n"
          ],
          "name": "stdout"
        },
        {
          "output_type": "execute_result",
          "data": {
            "text/plain": [
              "array([0.18658633, 0.16179381, 0.16781903])"
            ]
          },
          "metadata": {
            "tags": []
          },
          "execution_count": 14
        }
      ]
    },
    {
      "cell_type": "code",
      "metadata": {
        "id": "WvDUAs4bvN4z"
      },
      "source": [
        "#predicting on test data\n",
        "closing_price_raw = model.predict(x_test)\n",
        "\n"
      ],
      "execution_count": 15,
      "outputs": []
    },
    {
      "cell_type": "code",
      "metadata": {
        "id": "rfpxbwmBVxoE",
        "colab": {
          "base_uri": "https://localhost:8080/"
        },
        "outputId": "316d413d-c31c-4fa2-a952-e668fd2c7871"
      },
      "source": [
        "print('closing_price_raw shape')\n",
        "print(closing_price_raw.shape)\n",
        "print('closing_price_raw 0->1')\n",
        "print(closing_price_raw[0:1])\n",
        "print('closing_price_raw type')\n",
        "print(type(closing_price_raw))\n",
        "print('y_test type')\n",
        "print(type(y_test))\n",
        "print('y_test shape')\n",
        "print(y_test.shape)"
      ],
      "execution_count": 16,
      "outputs": [
        {
          "output_type": "stream",
          "text": [
            "closing_price_raw shape\n",
            "(177, 1)\n",
            "closing_price_raw 0->1\n",
            "[[0.37940413]]\n",
            "closing_price_raw type\n",
            "<class 'numpy.ndarray'>\n",
            "y_test type\n",
            "<class 'numpy.ndarray'>\n",
            "y_test shape\n",
            "(177,)\n"
          ],
          "name": "stdout"
        }
      ]
    },
    {
      "cell_type": "code",
      "metadata": {
        "colab": {
          "base_uri": "https://localhost:8080/"
        },
        "id": "VgJ5K6JR8roU",
        "outputId": "5a218024-2be7-4dc6-f397-a04b6369eff5"
      },
      "source": [
        "closing_price = np.zeros(shape=(closing_price_raw.shape[0],2))\n",
        "closing_price[:,0] = closing_price_raw[:,0]\n",
        "print(\"closing_price.shape\")\n",
        "print(closing_price.shape)\n",
        "print(\"closing_price_raw.shape\")\n",
        "print(closing_price_raw.shape)\n",
        "print(\"closing_price[0:5,0]\")\n",
        "print(closing_price[0:5,0])\n",
        "print(\"closing_price_raw[0:5,0]\")\n",
        "print(closing_price_raw[0:5,0])"
      ],
      "execution_count": 17,
      "outputs": [
        {
          "output_type": "stream",
          "text": [
            "closing_price.shape\n",
            "(177, 2)\n",
            "closing_price_raw.shape\n",
            "(177, 1)\n",
            "closing_price[0:5,0]\n",
            "[0.37940413 0.38074929 0.39831632 0.38677585 0.37146944]\n",
            "closing_price_raw[0:5,0]\n",
            "[0.37940413 0.3807493  0.39831632 0.38677585 0.37146944]\n"
          ],
          "name": "stdout"
        }
      ]
    },
    {
      "cell_type": "code",
      "metadata": {
        "colab": {
          "base_uri": "https://localhost:8080/"
        },
        "id": "0RS-9nTGPkoW",
        "outputId": "40b51d94-4118-41e2-ca7a-b2889e8524bc"
      },
      "source": [
        "print(closing_price[0:5,1])"
      ],
      "execution_count": 18,
      "outputs": [
        {
          "output_type": "stream",
          "text": [
            "[0. 0. 0. 0. 0.]\n"
          ],
          "name": "stdout"
        }
      ]
    },
    {
      "cell_type": "code",
      "metadata": {
        "id": "Gsk1JklJySfD"
      },
      "source": [
        "closing_price = scaler.inverse_transform(closing_price)"
      ],
      "execution_count": 19,
      "outputs": []
    },
    {
      "cell_type": "code",
      "metadata": {
        "id": "EyYT06szqDfK",
        "colab": {
          "base_uri": "https://localhost:8080/"
        },
        "outputId": "488cf820-b54d-43d4-f45c-0f01c96bab84"
      },
      "source": [
        "print(closing_price[0:2,:])\n",
        "print(closing_price.shape)"
      ],
      "execution_count": 20,
      "outputs": [
        {
          "output_type": "stream",
          "text": [
            "[[94.67781007 55.849998  ]\n",
            " [94.8145857  55.849998  ]]\n",
            "(177, 2)\n"
          ],
          "name": "stdout"
        }
      ]
    },
    {
      "cell_type": "code",
      "metadata": {
        "id": "TwmruVw_2Pwy",
        "colab": {
          "base_uri": "https://localhost:8080/"
        },
        "outputId": "5a22178f-49fe-4537-c3bf-96b890cf4b7f"
      },
      "source": [
        "rms=np.sqrt(np.mean(np.power((dataset[split+PRIOR_DAYS:,0]-closing_price[:,0]),2)))\n",
        "print(\"Root mean square error is %.2f\"%rms)"
      ],
      "execution_count": 21,
      "outputs": [
        {
          "output_type": "stream",
          "text": [
            "Root mean square error is 8.72\n"
          ],
          "name": "stdout"
        }
      ]
    },
    {
      "cell_type": "code",
      "metadata": {
        "id": "EttB4OMv2bNV",
        "colab": {
          "base_uri": "https://localhost:8080/",
          "height": 891
        },
        "outputId": "343ae7ef-ef75-4038-bf15-dd6520f6226b"
      },
      "source": [
        "#for plotting\n",
        "#to plot within notebook\n",
        "import matplotlib.pyplot as plt\n",
        "%matplotlib inline\n",
        "train = new_data[0:split+PRIOR_DAYS]\n",
        "test = new_data[split+PRIOR_DAYS:]\n",
        "test['Predictions'] = closing_price[:,0]\n",
        "plt.figure(figsize=(13,13))\n",
        "plt.plot(train['Close'], color = \"blue\", label =\"training data\")\n",
        "plt.plot(test[['Close','Predictions']])"
      ],
      "execution_count": 22,
      "outputs": [
        {
          "output_type": "stream",
          "text": [
            "/usr/local/lib/python3.7/dist-packages/ipykernel_launcher.py:7: SettingWithCopyWarning: \n",
            "A value is trying to be set on a copy of a slice from a DataFrame.\n",
            "Try using .loc[row_indexer,col_indexer] = value instead\n",
            "\n",
            "See the caveats in the documentation: https://pandas.pydata.org/pandas-docs/stable/user_guide/indexing.html#returning-a-view-versus-a-copy\n",
            "  import sys\n"
          ],
          "name": "stderr"
        },
        {
          "output_type": "execute_result",
          "data": {
            "text/plain": [
              "[<matplotlib.lines.Line2D at 0x7efc97033c10>,\n",
              " <matplotlib.lines.Line2D at 0x7efc96e06590>]"
            ]
          },
          "metadata": {
            "tags": []
          },
          "execution_count": 22
        },
        {
          "output_type": "display_data",
          "data": {
            "image/png": "[encoded data removed]",
            "text/plain": [
              "<Figure size 936x936 with 1 Axes>"
            ]
          },
          "metadata": {
            "tags": [],
            "needs_background": "light"
          }
        }
      ]
    },
    {
      "cell_type": "code",
      "metadata": {
        "id": "IQi1dFt84V-M",
        "colab": {
          "base_uri": "https://localhost:8080/",
          "height": 965
        },
        "outputId": "515f43e4-be6e-4391-fcf7-2bc89b80b949"
      },
      "source": [
        "test['Error'] = test['Close'] - test['Predictions']\n",
        "plt.figure(figsize=(15,15))\n",
        "rms_str=\"RMS=%.2f\"%rms\n",
        "plt.text(5,5, rms_str, fontsize=20, horizontalalignment='center', verticalalignment='center')\n",
        "plt.plot(test['Close'], color = \"blue\", label =\"Actual Closing Price\")\n",
        "plt.plot(test['Predictions'], color = \"green\", label = \"Predicted Closing Price\")\n",
        "plt.plot(test['Error'], color=\"red\", label = \"Error = Actual - Predicted\")\n",
        "plt.legend(loc = \"upper left\")\n",
        "plt.show()"
      ],
      "execution_count": 23,
      "outputs": [
        {
          "output_type": "stream",
          "text": [
            "/usr/local/lib/python3.7/dist-packages/ipykernel_launcher.py:1: SettingWithCopyWarning: \n",
            "A value is trying to be set on a copy of a slice from a DataFrame.\n",
            "Try using .loc[row_indexer,col_indexer] = value instead\n",
            "\n",
            "See the caveats in the documentation: https://pandas.pydata.org/pandas-docs/stable/user_guide/indexing.html#returning-a-view-versus-a-copy\n",
            "  \"\"\"Entry point for launching an IPython kernel.\n"
          ],
          "name": "stderr"
        },
        {
          "output_type": "display_data",
          "data": {
            "image/png": "[encoded data removed]",
            "text/plain": [
              "<Figure size 1080x1080 with 1 Axes>"
            ]
          },
          "metadata": {
            "tags": [],
            "needs_background": "light"
          }
        }
      ]
    },
    {
      "cell_type": "code",
      "metadata": {
        "id": "aSgrirQpxnGK",
        "colab": {
          "base_uri": "https://localhost:8080/"
        },
        "outputId": "d409184b-54fa-4e79-e699-bd2eef0fbaba"
      },
      "source": [
        "print(len(test.index))\n",
        "#print(test.tail(10))\n",
        "print(test[-10:]['Error'])"
      ],
      "execution_count": 24,
      "outputs": [
        {
          "output_type": "stream",
          "text": [
            "177\n",
            "Date\n",
            "2020-12-10    8.68932\n",
            "2020-12-11    4.45174\n",
            "2020-12-14    7.35072\n",
            "2020-12-15    12.5443\n",
            "2020-12-16    14.1161\n",
            "2020-12-17    9.68945\n",
            "2020-12-18    12.6794\n",
            "2020-12-21    12.0447\n",
            "2020-12-22    12.8923\n",
            "2020-12-23       13.6\n",
            "Name: Error, dtype: object\n"
          ],
          "name": "stdout"
        }
      ]
    },
    {
      "cell_type": "markdown",
      "metadata": {
        "id": "vNx3UA5K2jf2"
      },
      "source": [
        "copy prediction result to csv file\n"
      ]
    },
    {
      "cell_type": "code",
      "metadata": {
        "id": "-TCQNqjy4TeC",
        "colab": {
          "base_uri": "https://localhost:8080/",
          "height": 17
        },
        "outputId": "ed5e354e-8e25-4e1d-f0dc-9ace06c1426d"
      },
      "source": [
        "from google.colab import files\n",
        "test.to_csv(\"lstm_prediction_result.csv\")\n",
        "files.download(\"lstm_prediction_result.csv\")"
      ],
      "execution_count": 25,
      "outputs": [
        {
          "output_type": "display_data",
          "data": {
            "application/javascript": [
              "\n",
              "    async function download(id, filename, size) {\n",
              "      if (!google.colab.kernel.accessAllowed) {\n",
              "        return;\n",
              "      }\n",
              "      const div = document.createElement('div');\n",
              "      const label = document.createElement('label');\n",
              "      label.textContent = `Downloading \"${filename}\": `;\n",
              "      div.appendChild(label);\n",
              "      const progress = document.createElement('progress');\n",
              "      progress.max = size;\n",
              "      div.appendChild(progress);\n",
              "      document.body.appendChild(div);\n",
              "\n",
              "      const buffers = [];\n",
              "      let downloaded = 0;\n",
              "\n",
              "      const channel = await google.colab.kernel.comms.open(id);\n",
              "      // Send a message to notify the kernel that we're ready.\n",
              "      channel.send({})\n",
              "\n",
              "      for await (const message of channel.messages) {\n",
              "        // Send a message to notify the kernel that we're ready.\n",
              "        channel.send({})\n",
              "        if (message.buffers) {\n",
              "          for (const buffer of message.buffers) {\n",
              "            buffers.push(buffer);\n",
              "            downloaded += buffer.byteLength;\n",
              "            progress.value = downloaded;\n",
              "          }\n",
              "        }\n",
              "      }\n",
              "      const blob = new Blob(buffers, {type: 'application/binary'});\n",
              "      const a = document.createElement('a');\n",
              "      a.href = window.URL.createObjectURL(blob);\n",
              "      a.download = filename;\n",
              "      div.appendChild(a);\n",
              "      a.click();\n",
              "      div.remove();\n",
              "    }\n",
              "  "
            ],
            "text/plain": [
              "<IPython.core.display.Javascript object>"
            ]
          },
          "metadata": {
            "tags": []
          }
        },
        {
          "output_type": "display_data",
          "data": {
            "application/javascript": [
              "download(\"download_b5851776-3e3c-4863-b631-da371b050851\", \"lstm_prediction_result.csv\", 12730)"
            ],
            "text/plain": [
              "<IPython.core.display.Javascript object>"
            ]
          },
          "metadata": {
            "tags": []
          }
        }
      ]
    },
    {
      "cell_type": "markdown",
      "metadata": {
        "id": "tKIY07RV0vYy"
      },
      "source": [
        "Only Predict"
      ]
    },
    {
      "cell_type": "code",
      "metadata": {
        "id": "W_go8kiD0xkc",
        "colab": {
          "base_uri": "https://localhost:8080/",
          "height": 69
        },
        "outputId": "2028c2e9-9eba-4238-ebd6-1d6289bf3d63"
      },
      "source": [
        "'''def create_x_only(data, start_index, length, reshape_x_for_ltsm=True):\n",
        "  end_index = start_index+length\n",
        "  x=[]\n",
        "  for i in range(start_index,end_index):\n",
        "    x.append(data[i-PRIOR_DAYS+1:i+1,0])  #do :i+1 because it will only go up to i+1-1\n",
        "  x = np.array(x)\n",
        "  if reshape_x_for_ltsm:\n",
        "    x = np.reshape(x, (x.shape[0],x.shape[1],1)) #reshape x into samples,time steps, features as required by lstm model \n",
        "  return x\n",
        "\n",
        "x_latest = create_x_only(scaled_data, len(scaled_data)-1, 1 )\n",
        "print(len(scaled_data))\n",
        "print(x_latest.shape)\n",
        "#print(x_latest)'''"
      ],
      "execution_count": 26,
      "outputs": [
        {
          "output_type": "execute_result",
          "data": {
            "application/vnd.google.colaboratory.intrinsic+json": {
              "type": "string"
            },
            "text/plain": [
              "'def create_x_only(data, start_index, length, reshape_x_for_ltsm=True):\\n  end_index = start_index+length\\n  x=[]\\n  for i in range(start_index,end_index):\\n    x.append(data[i-PRIOR_DAYS+1:i+1,0])  #do :i+1 because it will only go up to i+1-1\\n  x = np.array(x)\\n  if reshape_x_for_ltsm:\\n    x = np.reshape(x, (x.shape[0],x.shape[1],1)) #reshape x into samples,time steps, features as required by lstm model \\n  return x\\n\\nx_latest = create_x_only(scaled_data, len(scaled_data)-1, 1 )\\nprint(len(scaled_data))\\nprint(x_latest.shape)\\n#print(x_latest)'"
            ]
          },
          "metadata": {
            "tags": []
          },
          "execution_count": 26
        }
      ]
    },
    {
      "cell_type": "code",
      "metadata": {
        "id": "gYHvYtTi35cg"
      },
      "source": [
        "#y_latest_predicted = model.predict(x_latest)"
      ],
      "execution_count": 27,
      "outputs": []
    },
    {
      "cell_type": "code",
      "metadata": {
        "id": "eI6tZzdcCOEB"
      },
      "source": [
        "#y_latest_predicted = scaler.inverse_transform(y_latest_predicted)\n",
        "#print(y_latest_predicted)"
      ],
      "execution_count": 28,
      "outputs": []
    },
    {
      "cell_type": "code",
      "metadata": {
        "id": "bTwrDw4W0FCV",
        "colab": {
          "base_uri": "https://localhost:8080/",
          "height": 52
        },
        "outputId": "86d50f3a-9395-44cf-c5fb-2376eff102ba"
      },
      "source": [
        "'''from sklearn.preprocessing import MinMaxScaler\n",
        "import numpy as np\n",
        "\n",
        "a=np.array([[-1.2, -3.5, 9, 4.7, -0.01], [4.5,6.25,-9.7,5.6,-10.2]])\n",
        "scaler2 = MinMaxScaler(feature_range = (-1,1))\n",
        "scaled2 = scaler2.fit_transform(a)\n",
        "print(scaled2)'''"
      ],
      "execution_count": 29,
      "outputs": [
        {
          "output_type": "execute_result",
          "data": {
            "application/vnd.google.colaboratory.intrinsic+json": {
              "type": "string"
            },
            "text/plain": [
              "'from sklearn.preprocessing import MinMaxScaler\\nimport numpy as np\\n\\na=np.array([[-1.2, -3.5, 9, 4.7, -0.01], [4.5,6.25,-9.7,5.6,-10.2]])\\nscaler2 = MinMaxScaler(feature_range = (-1,1))\\nscaled2 = scaler2.fit_transform(a)\\nprint(scaled2)'"
            ]
          },
          "metadata": {
            "tags": []
          },
          "execution_count": 29
        }
      ]
    }
  ]
}